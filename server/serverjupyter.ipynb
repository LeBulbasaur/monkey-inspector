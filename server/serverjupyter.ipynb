{
 "cells": [
  {
   "cell_type": "code",
   "execution_count": null,
   "id": "39e9469f",
   "metadata": {},
   "outputs": [],
   "source": [
    "from flask import *\n",
    "from flask_cors import CORS\n",
    "from werkzeug.utils import secure_filename\n",
    "import os"
   ]
  },
  {
   "cell_type": "code",
   "execution_count": null,
   "id": "2aa38466",
   "metadata": {},
   "outputs": [],
   "source": [
    "UPLOAD_FOLDER = \"server/uploads\"\n",
    "ALLOWED_EXTENSIONS = {'png', 'jpeg', 'jpg'}\n",
    "app = Flask(__name__, static_folder='../client/src')\n",
    "CORS(app)\n",
    "app.config[\"UPLOAD_FOLDER\"] = UPLOAD_FOLDER"
   ]
  },
  {
   "cell_type": "code",
   "execution_count": null,
   "id": "ae8f09b1",
   "metadata": {},
   "outputs": [],
   "source": [
    "def allowed_file(filename):\n",
    "    return '.' in filename and \\\n",
    "        filename.rsplit('.', 1)[1].lower() in ALLOWED_EXTENSIONS"
   ]
  },
  {
   "cell_type": "code",
   "execution_count": null,
   "id": "3cfbb87b",
   "metadata": {},
   "outputs": [],
   "source": [
    "@app.route(\"/\")\n",
    "def home():\n",
    "    return \"hello world\""
   ]
  },
  {
   "cell_type": "code",
   "execution_count": null,
   "id": "6519d4d1",
   "metadata": {},
   "outputs": [],
   "source": [
    "@app.route(\"/upload\", methods=[\"POST\", \"GET\"])\n",
    "def upload():\n",
    "    if request.method == 'POST':\n",
    "        if 'file' not in request.files:\n",
    "            data = {\"message\": 69}\n",
    "            return jsonify(data)\n",
    "        file = request.files['file']\n",
    "        if file.filename == '':\n",
    "            data = {\"message\": 0}\n",
    "            return jsonify(data)\n",
    "        if file and allowed_file(file.filename):\n",
    "            filename = secure_filename(file.filename)\n",
    "            file.save(os.path.join(app.config['UPLOAD_FOLDER'], filename))\n",
    "            data = {\"message\": 1}\n",
    "            return jsonify(data)"
   ]
  },
  {
   "cell_type": "code",
   "execution_count": null,
   "id": "3ba8a45b",
   "metadata": {},
   "outputs": [],
   "source": [
    "if __name__ == \"__main__\":\n",
    "    app.run(port=3000)"
   ]
  },
  {
   "cell_type": "code",
   "execution_count": null,
   "id": "60624cc2",
   "metadata": {},
   "outputs": [],
   "source": []
  }
 ],
 "metadata": {
  "kernelspec": {
   "display_name": "Python 3 (ipykernel)",
   "language": "python",
   "name": "python3"
  },
  "language_info": {
   "codemirror_mode": {
    "name": "ipython",
    "version": 3
   },
   "file_extension": ".py",
   "mimetype": "text/x-python",
   "name": "python",
   "nbconvert_exporter": "python",
   "pygments_lexer": "ipython3",
   "version": "3.10.6"
  }
 },
 "nbformat": 4,
 "nbformat_minor": 5
}
